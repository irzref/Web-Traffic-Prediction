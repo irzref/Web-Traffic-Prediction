{
 "cells": [
  {
   "cell_type": "markdown",
   "metadata": {},
   "source": [
    "# Multi-Step MLP Models\n",
    "\n",
    "references :\n",
    "\n",
    "- How to Develop Multilayer Perceptron Models for Time Series Forecasting\n",
    "\n",
    "  https://machinelearningmastery.com/how-to-develop-multilayer-perceptron-models-for-time-series-forecasting/\n",
    "  \n",
    "\n",
    "\n",
    "- Exploratory Configuration of a Multilayer Perceptron Network for Time Series Forecasting \n",
    "\n",
    "  https://machinelearningmastery.com/exploratory-configuration-multilayer-perceptron-network-time-series-forecasting/  \n"
   ]
  },
  {
   "cell_type": "markdown",
   "metadata": {},
   "source": [
    "## Example case"
   ]
  },
  {
   "cell_type": "code",
   "execution_count": null,
   "metadata": {},
   "outputs": [],
   "source": [
    "from pandas import DataFrame\n",
    "from pandas import Series\n",
    "from pandas import concat\n",
    "from pandas import read_csv\n",
    "from pandas import datetime\n",
    "from sklearn.metrics import mean_squared_error\n",
    "from sklearn.preprocessing import MinMaxScaler\n",
    "from keras.models import Sequential\n",
    "from keras.layers import Dense\n",
    "from math import sqrt\n",
    "import matplotlib"
   ]
  },
  {
   "cell_type": "markdown",
   "metadata": {},
   "source": [
    "##### transform the data"
   ]
  },
  {
   "cell_type": "code",
   "execution_count": 21,
   "metadata": {},
   "outputs": [
    {
     "name": "stdout",
     "output_type": "stream",
     "text": [
      "[10 20 30] [40 50]\n",
      "[20 30 40] [50 60]\n",
      "[30 40 50] [60 70]\n",
      "[40 50 60] [70 80]\n",
      "[50 60 70] [80 90]\n"
     ]
    }
   ],
   "source": [
    "# univariate data preparation\n",
    "from numpy import array\n",
    "\n",
    "# split a univariate sequence into samples\n",
    "def split_sequence(sequence, n_steps_in, n_steps_out):\n",
    "\tX, y = list(), list()\n",
    "\tfor i in range(len(sequence)):\n",
    "\t\t# find the end of this pattern\n",
    "\t\tend_ix = i + n_steps_in\n",
    "\t\tout_end_ix = end_ix + n_steps_out\n",
    "\t\t# check if we are beyond the sequence\n",
    "\t\tif out_end_ix > len(sequence):\n",
    "\t\t\tbreak\n",
    "\t\t# gather input and output parts of the pattern\n",
    "\t\tseq_x, seq_y = sequence[i:end_ix], sequence[end_ix:out_end_ix]\n",
    "\t\tX.append(seq_x)\n",
    "\t\ty.append(seq_y)\n",
    "\treturn array(X), array(y)\n",
    "\n",
    "# define input sequence\n",
    "raw_seq = [10, 20, 30, 40, 50, 60, 70, 80, 90]\n",
    "\n",
    "# choose a number of time steps\n",
    "n_steps_in, n_steps_out = 3, 2\n",
    "\n",
    "# split into samples\n",
    "X, y = split_sequence(raw_seq, n_steps_in, n_steps_out)\n",
    "\n",
    "# summarize the data\n",
    "for i in range(len(X)):\n",
    "\tprint(X[i], y[i])"
   ]
  },
  {
   "cell_type": "markdown",
   "metadata": {},
   "source": [
    "##### build model "
   ]
  },
  {
   "cell_type": "code",
   "execution_count": 22,
   "metadata": {},
   "outputs": [],
   "source": [
    "# define model\n",
    "model = Sequential()\n",
    "\n",
    "# hidden layer, 100 neurons, relu activation function\n",
    "model.add(Dense(100, activation='relu', input_dim=n_steps)) \n",
    "\n",
    "# output layer\n",
    "model.add(Dense(n_steps_out))\n",
    "\n",
    "# loss function\n",
    "model.compile(optimizer='adam', loss='mse')"
   ]
  },
  {
   "cell_type": "markdown",
   "metadata": {},
   "source": [
    "##### fit model"
   ]
  },
  {
   "cell_type": "code",
   "execution_count": 23,
   "metadata": {},
   "outputs": [
    {
     "data": {
      "text/plain": [
       "<keras.callbacks.History at 0x7fbd00377128>"
      ]
     },
     "execution_count": 23,
     "metadata": {},
     "output_type": "execute_result"
    }
   ],
   "source": [
    "# fit model\n",
    "model.fit(X, y, epochs=2000, verbose=0)"
   ]
  },
  {
   "cell_type": "code",
   "execution_count": 24,
   "metadata": {},
   "outputs": [
    {
     "name": "stdout",
     "output_type": "stream",
     "text": [
      "[[101.38835 113.17945]]\n"
     ]
    }
   ],
   "source": [
    "# demonstrate prediction\n",
    "x_input = array([70, 80, 90])\n",
    "x_input = x_input.reshape((1, n_steps))\n",
    "yhat = model.predict(x_input, verbose=0)\n",
    "print(yhat)"
   ]
  },
  {
   "cell_type": "markdown",
   "metadata": {},
   "source": [
    "##### calculate MSE"
   ]
  },
  {
   "cell_type": "code",
   "execution_count": 27,
   "metadata": {},
   "outputs": [
    {
     "data": {
      "text/plain": [
       "6.018214156065369"
      ]
     },
     "execution_count": 27,
     "metadata": {},
     "output_type": "execute_result"
    }
   ],
   "source": [
    "# calculate the MSE\n",
    "\n",
    "y_test = array([100, 110])\n",
    "mse = mean_squared_error([y_test], yhat)\n",
    "mse"
   ]
  },
  {
   "cell_type": "markdown",
   "metadata": {},
   "source": [
    "## Web traffic case"
   ]
  },
  {
   "cell_type": "code",
   "execution_count": 1,
   "metadata": {},
   "outputs": [
    {
     "name": "stderr",
     "output_type": "stream",
     "text": [
      "/home/irza/anaconda3/envs/deeplearning/lib/python3.6/site-packages/h5py/__init__.py:36: FutureWarning: Conversion of the second argument of issubdtype from `float` to `np.floating` is deprecated. In future, it will be treated as `np.float64 == np.dtype(float).type`.\n",
      "  from ._conv import register_converters as _register_converters\n",
      "Using TensorFlow backend.\n"
     ]
    }
   ],
   "source": [
    "from pandas import DataFrame\n",
    "from pandas import Series\n",
    "from pandas import concat\n",
    "from pandas import read_csv\n",
    "from pandas import datetime\n",
    "from sklearn.metrics import mean_squared_error\n",
    "from sklearn.preprocessing import MinMaxScaler\n",
    "from keras.models import Sequential\n",
    "from keras.layers import Dense\n",
    "from math import sqrt\n",
    "import matplotlib\n",
    "import numpy as np"
   ]
  },
  {
   "cell_type": "markdown",
   "metadata": {},
   "source": [
    "##### read dataset"
   ]
  },
  {
   "cell_type": "code",
   "execution_count": 3,
   "metadata": {},
   "outputs": [
    {
     "data": {
      "text/html": [
       "<div>\n",
       "<style scoped>\n",
       "    .dataframe tbody tr th:only-of-type {\n",
       "        vertical-align: middle;\n",
       "    }\n",
       "\n",
       "    .dataframe tbody tr th {\n",
       "        vertical-align: top;\n",
       "    }\n",
       "\n",
       "    .dataframe thead th {\n",
       "        text-align: right;\n",
       "    }\n",
       "</style>\n",
       "<table border=\"1\" class=\"dataframe\">\n",
       "  <thead>\n",
       "    <tr style=\"text-align: right;\">\n",
       "      <th></th>\n",
       "      <th>Page</th>\n",
       "      <th>2015-07-01</th>\n",
       "      <th>2015-07-02</th>\n",
       "      <th>2015-07-03</th>\n",
       "      <th>2015-07-04</th>\n",
       "      <th>2015-07-05</th>\n",
       "      <th>2015-07-06</th>\n",
       "      <th>2015-07-07</th>\n",
       "      <th>2015-07-08</th>\n",
       "      <th>2015-07-09</th>\n",
       "      <th>...</th>\n",
       "      <th>2017-09-01</th>\n",
       "      <th>2017-09-02</th>\n",
       "      <th>2017-09-03</th>\n",
       "      <th>2017-09-04</th>\n",
       "      <th>2017-09-05</th>\n",
       "      <th>2017-09-06</th>\n",
       "      <th>2017-09-07</th>\n",
       "      <th>2017-09-08</th>\n",
       "      <th>2017-09-09</th>\n",
       "      <th>2017-09-10</th>\n",
       "    </tr>\n",
       "  </thead>\n",
       "  <tbody>\n",
       "    <tr>\n",
       "      <th>0</th>\n",
       "      <td>2NE1_zh.wikipedia.org_all-access_spider</td>\n",
       "      <td>18</td>\n",
       "      <td>11</td>\n",
       "      <td>5</td>\n",
       "      <td>13</td>\n",
       "      <td>14</td>\n",
       "      <td>9</td>\n",
       "      <td>9</td>\n",
       "      <td>22</td>\n",
       "      <td>26</td>\n",
       "      <td>...</td>\n",
       "      <td>19</td>\n",
       "      <td>33</td>\n",
       "      <td>33</td>\n",
       "      <td>18</td>\n",
       "      <td>16</td>\n",
       "      <td>27</td>\n",
       "      <td>29</td>\n",
       "      <td>23</td>\n",
       "      <td>54</td>\n",
       "      <td>38</td>\n",
       "    </tr>\n",
       "  </tbody>\n",
       "</table>\n",
       "<p>1 rows × 804 columns</p>\n",
       "</div>"
      ],
      "text/plain": [
       "                                      Page  2015-07-01  2015-07-02  \\\n",
       "0  2NE1_zh.wikipedia.org_all-access_spider          18          11   \n",
       "\n",
       "   2015-07-03  2015-07-04  2015-07-05  2015-07-06  2015-07-07  2015-07-08  \\\n",
       "0           5          13          14           9           9          22   \n",
       "\n",
       "   2015-07-09     ...      2017-09-01  2017-09-02  2017-09-03  2017-09-04  \\\n",
       "0          26     ...              19          33          33          18   \n",
       "\n",
       "   2017-09-05  2017-09-06  2017-09-07  2017-09-08  2017-09-09  2017-09-10  \n",
       "0          16          27          29          23          54          38  \n",
       "\n",
       "[1 rows x 804 columns]"
      ]
     },
     "execution_count": 3,
     "metadata": {},
     "output_type": "execute_result"
    }
   ],
   "source": [
    "wt_df = read_csv('/home/irza/Downloads/train_2.csv', nrows=1)\n",
    "wt_df"
   ]
  },
  {
   "cell_type": "markdown",
   "metadata": {},
   "source": [
    "##### select and transform dataframe row to sequence"
   ]
  },
  {
   "cell_type": "code",
   "execution_count": 4,
   "metadata": {},
   "outputs": [],
   "source": [
    "# take only the values without the page name\n",
    "\n",
    "def get_seq_by_row(input_df, row_num):\n",
    "    new_seq = np.delete(input_df.iloc[row_num].values, 0)\n",
    "    return new_seq\n",
    "\n",
    "wt_seq = get_seq_by_row(wt_df,0)"
   ]
  },
  {
   "cell_type": "code",
   "execution_count": 35,
   "metadata": {
    "scrolled": true
   },
   "outputs": [
    {
     "data": {
      "text/plain": [
       "array([18, 11, 5, 13, 14, 9, 9, 22, 26, 24, 19, 10, 14, 15, 8, 16, 8, 8,\n",
       "       16, 7, 11, 10, 20, 18, 15, 14, 49, 10, 16, 18, 8, 5, 9, 7, 13, 9,\n",
       "       7, 4, 11, 10, 5, 9, 9, 9, 9, 13, 4, 15, 25, 9, 5, 6, 20, 3, 14, 46,\n",
       "       5, 5, 13, 4, 9, 10, 9, 11, 11, 11, 9, 15, 5, 10, 7, 4, 8, 9, 10, 6,\n",
       "       13, 16, 6, 24, 9, 11, 12, 8, 14, 6, 6, 11, 14, 6, 10, 20, 7, 15, 8,\n",
       "       15, 5, 8, 8, 5, 11, 165, 34, 6, 13, 8, 9, 11, 26, 18, 3, 5, 12, 6,\n",
       "       16, 19, 9, 10, 11, 11, 7, 9, 10, 24, 6, 6, 8, 16, 13, 10, 10, 6, 5,\n",
       "       20, 6, 47, 9, 9, 12, 11, 17, 15, 14, 11, 97, 11, 12, 11, 14, 15,\n",
       "       12, 104, 5, 22, 45, 75, 29, 34, 20, 12, 25, 9, 62, 20, 19, 8, 23,\n",
       "       13, 16, 34, 36, 11, 18, 12, 24, 30, 27, 44, 35, 53, 11, 26, 13, 18,\n",
       "       9, 16, 6, 19, 20, 19, 22, 30, 14, 16, 22, 15, 15, 26, 16, 13, 27,\n",
       "       18, 13, 32, 31, 16, 38, 18, 9, 14, 10, 24, 8, 15, 18, 10, 23, 17,\n",
       "       11, 26, 14, 8, 12, 9, 11, 34, 17, 29, 11, 9, 14, 21, 12, 11, 13,\n",
       "       11, 13, 16, 13, 19, 21, 14, 11, 35, 18, 42, 15, 5, 21, 56, 9, 20,\n",
       "       17, 18, 8, 9, 17, 9, 10, 14, 17, 6, 18, 13, 11, 12, 11, 8, 15, 11,\n",
       "       20, 59, 11, 18, 17, 12, 14, 13, 9, 490, 189, 102, 38, 126, 71, 21,\n",
       "       57, 79, 17, 17, 23, 16, 23, 18, 22, 44, 6, 31, 17, 25, 40, 19, 15,\n",
       "       15, 29, 18, 16, 13, 20, 22, 19, 11, 50, 22, 39, 23, 21, 23, 22, 16,\n",
       "       19, 35, 16, 12, 15, 13, 14, 10, 21, 20, 19, 14, 12, 15, 17, 16, 21,\n",
       "       27, 13, 11, 15, 14, 18, 18, 10, 11, 14, 18, 14, 13, 17, 15, 14,\n",
       "       234, 8, 62, 26, 22, 8, 22, 15, 69, 11, 18, 23, 12, 20, 17, 15, 16,\n",
       "       18, 21, 15, 30, 115, 56, 45, 17, 18, 15, 18, 14, 15, 15, 24, 22,\n",
       "       18, 30, 12, 13, 18, 17, 31, 26, 29, 12, 19, 19, 57, 17, 20, 49, 10,\n",
       "       19, 26, 41, 23, 30, 55, 17, 24, 14, 12, 49, 42, 37, 13, 30, 20, 33,\n",
       "       20, 14, 40, 15, 18, 26, 8, 25, 21, 20, 25, 19, 23, 18, 19, 18, 55,\n",
       "       16, 65, 11, 11, 13, 20, 21, 13, 24, 20, 13, 32, 16, 10, 13, 44, 17,\n",
       "       13, 72, 40, 19, 14, 13, 12, 14, 10, 26, 13, 22, 14, 23, 12, 8, 50,\n",
       "       13, 10, 16, 14, 10, 24, 10, 20, 10, 26, 25, 16, 19, 20, 12, 19, 50,\n",
       "       16, 30, 18, 25, 14, 20, 8, 67, 13, 41, 10, 21, 13, 8, 15, 14, 12,\n",
       "       6, 11, 10, 42, 21, 24, 14, 11, 204, 14, 45, 33, 28, 18, 14, 47, 15,\n",
       "       14, 18, 20, 14, 16, 14, 20, 60, 22, 15, 17, 19, 18, 21, 21, 47, 65,\n",
       "       17, 32, 63, 15, 26, 14, 20, 22, 19, 18, 20, 26, 42, 35, 13, 51, 11,\n",
       "       12, 31, 15, 4, 22, 12, 12, 11, 4, 12, 13, 13, 56, 47, 120, 52, 106,\n",
       "       35, 77, 16, 11, 28, 5, 20, 24, 57, 43, 22, 7, 11, 13, 42, 11, 7,\n",
       "       22, 13, 20, 11, 18, 16, 18, 9, 15, 16, 14, 11, 66, 18, 23, 20, 20,\n",
       "       39, 16, 43, 14, 26, 15, 16, 22, 22, 28, 21, 22, 19, 28, 22, 24, 19,\n",
       "       21, 28, 30, 26, 28, 22, 23, 44, 11, 22, 33, 66, 19, 73, 17, 17, 16,\n",
       "       32, 38, 19, 27, 20, 124, 18, 17, 17, 32, 17, 21, 57, 22, 13, 43,\n",
       "       16, 18, 13, 20, 50, 33, 31, 19, 20, 71, 24, 20, 36, 80, 25, 29, 13,\n",
       "       42, 55, 21, 15, 21, 16, 22, 22, 23, 21, 19, 23, 14, 21, 24, 33, 12,\n",
       "       22, 16, 66, 15, 40, 22, 18, 29, 19, 16, 37, 57, 30, 35, 25, 30, 28,\n",
       "       18, 23, 37, 23, 27, 24, 26, 35, 32, 29, 38, 46, 22, 28, 26, 29, 21,\n",
       "       23, 23, 32, 34, 21, 24, 23, 24, 26, 15, 14, 15, 19, 29, 22, 25, 20,\n",
       "       19, 25, 17, 12, 24, 38, 43, 17, 16, 16, 12, 20, 16, 31, 19, 14, 20,\n",
       "       13, 22, 14, 20, 46, 24, 22, 22, 11, 25, 45, 39, 17, 18, 13, 57, 18,\n",
       "       14, 19, 39, 22, 16, 28, 21, 37, 58, 25, 23, 25, 47, 44, 26, 24, 21,\n",
       "       19, 33, 33, 18, 16, 27, 29, 23, 54, 38], dtype=object)"
      ]
     },
     "execution_count": 35,
     "metadata": {},
     "output_type": "execute_result"
    }
   ],
   "source": [
    "wt_seq"
   ]
  },
  {
   "cell_type": "markdown",
   "metadata": {},
   "source": [
    "##### transform sequence to supervised format"
   ]
  },
  {
   "cell_type": "code",
   "execution_count": 59,
   "metadata": {},
   "outputs": [],
   "source": [
    "# frame a sequence as a supervised learning problem\n",
    "\n",
    "def timeseries_to_supervised(data, lag=1, stepahead=1):\n",
    "    df = DataFrame(data)\n",
    "    col_num = lag+stepahead\n",
    "    columns = [df.shift(i) for i in range(1, col_num)]\n",
    "    columns = list(reversed(columns))\n",
    "    columns.append(df)\n",
    "    df = concat(columns, axis=1)    \n",
    "    return df.values[col_num - 1:,:]"
   ]
  },
  {
   "cell_type": "code",
   "execution_count": 66,
   "metadata": {
    "scrolled": true
   },
   "outputs": [
    {
     "data": {
      "text/plain": [
       "array([[18, 11, 5, 13, 14],\n",
       "       [11, 5, 13, 14, 9],\n",
       "       [5, 13, 14, 9, 9],\n",
       "       ...,\n",
       "       [18, 16, 27, 29, 23],\n",
       "       [16, 27, 29, 23, 54],\n",
       "       [27, 29, 23, 54, 38]], dtype=object)"
      ]
     },
     "execution_count": 66,
     "metadata": {},
     "output_type": "execute_result"
    }
   ],
   "source": [
    "time_step_lag = 2\n",
    "time_step_ahead = 3\n",
    "\n",
    "wt_supervised = timeseries_to_supervised(wt_seq, time_step_lag, time_step_ahead)\n",
    "wt_supervised"
   ]
  },
  {
   "cell_type": "markdown",
   "metadata": {},
   "source": [
    "#### split train and test set"
   ]
  },
  {
   "cell_type": "code",
   "execution_count": 69,
   "metadata": {},
   "outputs": [],
   "source": [
    "def split_train_and_test_set(dataset, num_of_test_set=12):\n",
    "    num_of_test_set = -1 * num_of_test_set\n",
    "    return dataset[0:num_of_test_set], dataset[num_of_test_set:]    "
   ]
  },
  {
   "cell_type": "code",
   "execution_count": 70,
   "metadata": {},
   "outputs": [],
   "source": [
    "train, test = split_train_and_test_set(wt_supervised)"
   ]
  },
  {
   "cell_type": "code",
   "execution_count": 74,
   "metadata": {},
   "outputs": [
    {
     "data": {
      "text/plain": [
       "array([[25, 47, 44, 26, 24],\n",
       "       [47, 44, 26, 24, 21],\n",
       "       [44, 26, 24, 21, 19],\n",
       "       [26, 24, 21, 19, 33],\n",
       "       [24, 21, 19, 33, 33],\n",
       "       [21, 19, 33, 33, 18],\n",
       "       [19, 33, 33, 18, 16],\n",
       "       [33, 33, 18, 16, 27],\n",
       "       [33, 18, 16, 27, 29],\n",
       "       [18, 16, 27, 29, 23],\n",
       "       [16, 27, 29, 23, 54],\n",
       "       [27, 29, 23, 54, 38]], dtype=object)"
      ]
     },
     "execution_count": 74,
     "metadata": {},
     "output_type": "execute_result"
    }
   ],
   "source": [
    "test"
   ]
  },
  {
   "cell_type": "markdown",
   "metadata": {},
   "source": [
    "#### scale sequence value"
   ]
  },
  {
   "cell_type": "code",
   "execution_count": 72,
   "metadata": {},
   "outputs": [],
   "source": [
    "# scale train and test data to [-1, 1]\n",
    "\n",
    "def scale(train, test):\n",
    "\t# fit scaler\n",
    "\tscaler = MinMaxScaler(feature_range=(-1, 1))\n",
    "\tscaler = scaler.fit(train)\n",
    "\t# transform train\n",
    "\ttrain = train.reshape(train.shape[0], train.shape[1])\n",
    "\ttrain_scaled = scaler.transform(train)\n",
    "\t# transform test\n",
    "\ttest = test.reshape(test.shape[0], test.shape[1])\n",
    "\ttest_scaled = scaler.transform(test)\n",
    "\treturn scaler, train_scaled, test_scaled\n",
    "\n",
    "# inverse scaling for a forecasted value\n",
    "\n",
    "def invert_scale(scaler, X, yhat):\n",
    "\tnew_row = [x for x in X] + [yhat]\n",
    "\tarray = numpy.array(new_row)\n",
    "\tarray = array.reshape(1, len(array))\n",
    "\tinverted = scaler.inverse_transform(array)\n",
    "\treturn inverted[0, -1]"
   ]
  },
  {
   "cell_type": "code",
   "execution_count": 73,
   "metadata": {},
   "outputs": [
    {
     "name": "stderr",
     "output_type": "stream",
     "text": [
      "/home/irza/anaconda3/envs/deeplearning/lib/python3.6/site-packages/sklearn/utils/validation.py:475: DataConversionWarning: Data with input dtype object was converted to float64 by MinMaxScaler.\n",
      "  warnings.warn(msg, DataConversionWarning)\n"
     ]
    }
   ],
   "source": [
    "scaler, train_scaled, test_scaled = scale(train, test)"
   ]
  },
  {
   "cell_type": "code",
   "execution_count": 75,
   "metadata": {},
   "outputs": [
    {
     "data": {
      "text/plain": [
       "array([[-0.90965092, -0.81930185, -0.83162218, -0.90554415, -0.9137577 ],\n",
       "       [-0.81930185, -0.83162218, -0.90554415, -0.9137577 , -0.92607803],\n",
       "       [-0.83162218, -0.90554415, -0.9137577 , -0.92607803, -0.93429158],\n",
       "       [-0.90554415, -0.9137577 , -0.92607803, -0.93429158, -0.87679671],\n",
       "       [-0.9137577 , -0.92607803, -0.93429158, -0.87679671, -0.87679671],\n",
       "       [-0.92607803, -0.93429158, -0.87679671, -0.87679671, -0.93839836],\n",
       "       [-0.93429158, -0.87679671, -0.87679671, -0.93839836, -0.94661191],\n",
       "       [-0.87679671, -0.87679671, -0.93839836, -0.94661191, -0.90143737],\n",
       "       [-0.87679671, -0.93839836, -0.94661191, -0.90143737, -0.89322382],\n",
       "       [-0.93839836, -0.94661191, -0.90143737, -0.89322382, -0.91786448],\n",
       "       [-0.94661191, -0.90143737, -0.89322382, -0.91786448, -0.79055441],\n",
       "       [-0.90143737, -0.89322382, -0.91786448, -0.79055441, -0.85626283]])"
      ]
     },
     "execution_count": 75,
     "metadata": {},
     "output_type": "execute_result"
    }
   ],
   "source": [
    "test_scaled"
   ]
  },
  {
   "cell_type": "code",
   "execution_count": 84,
   "metadata": {},
   "outputs": [
    {
     "data": {
      "text/plain": [
       "array([[-0.90965092, -0.81930185, -0.83162218, -0.90554415],\n",
       "       [-0.81930185, -0.83162218, -0.90554415, -0.9137577 ],\n",
       "       [-0.83162218, -0.90554415, -0.9137577 , -0.92607803],\n",
       "       [-0.90554415, -0.9137577 , -0.92607803, -0.93429158],\n",
       "       [-0.9137577 , -0.92607803, -0.93429158, -0.87679671],\n",
       "       [-0.92607803, -0.93429158, -0.87679671, -0.87679671],\n",
       "       [-0.93429158, -0.87679671, -0.87679671, -0.93839836],\n",
       "       [-0.87679671, -0.87679671, -0.93839836, -0.94661191],\n",
       "       [-0.87679671, -0.93839836, -0.94661191, -0.90143737],\n",
       "       [-0.93839836, -0.94661191, -0.90143737, -0.89322382],\n",
       "       [-0.94661191, -0.90143737, -0.89322382, -0.91786448],\n",
       "       [-0.90143737, -0.89322382, -0.91786448, -0.79055441]])"
      ]
     },
     "execution_count": 84,
     "metadata": {},
     "output_type": "execute_result"
    }
   ],
   "source": [
    "test_scaled[:,0:-1]"
   ]
  },
  {
   "cell_type": "code",
   "execution_count": null,
   "metadata": {},
   "outputs": [],
   "source": []
  }
 ],
 "metadata": {
  "kernelspec": {
   "display_name": "Python 3",
   "language": "python",
   "name": "python3"
  },
  "language_info": {
   "codemirror_mode": {
    "name": "ipython",
    "version": 3
   },
   "file_extension": ".py",
   "mimetype": "text/x-python",
   "name": "python",
   "nbconvert_exporter": "python",
   "pygments_lexer": "ipython3",
   "version": "3.6.5"
  }
 },
 "nbformat": 4,
 "nbformat_minor": 2
}
